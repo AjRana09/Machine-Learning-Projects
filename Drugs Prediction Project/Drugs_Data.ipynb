{
 "cells": [
  {
   "cell_type": "markdown",
   "id": "90810f30",
   "metadata": {},
   "source": [
    "## 1) Problem Statement"
   ]
  },
  {
   "cell_type": "markdown",
   "id": "79fd8bd1",
   "metadata": {},
   "source": [
    "Classify the drugs based on their features."
   ]
  },
  {
   "cell_type": "markdown",
   "id": "823dff5a",
   "metadata": {},
   "source": [
    "## 2) Data Collection"
   ]
  },
  {
   "cell_type": "code",
   "execution_count": 1,
   "id": "2f4bd61a",
   "metadata": {},
   "outputs": [],
   "source": [
    "import numpy as np\n",
    "import pandas as pd\n",
    "import matplotlib.pyplot as plt\n",
    "import seaborn as sns\n",
    "import sklearn\n",
    "import re\n",
    "from sklearn.preprocessing import LabelEncoder\n",
    "from sklearn.model_selection import train_test_split\n",
    "import scipy.stats as ss\n",
    "from sklearn.metrics import accuracy_score, confusion_matrix, ConfusionMatrixDisplay, precision_score, recall_score, f1_score, classification_report, roc_auc_score, roc_curve\n",
    "from collections import Counter\n",
    "from mixed_naive_bayes import MixedNB\n",
    "from sklearn.preprocessing import FunctionTransformer,PowerTransformer\n",
    "from sklearn.compose import ColumnTransformer\n",
    "from sklearn.pipeline import Pipeline\n",
    "from sklearn.impute import SimpleImputer\n",
    "from sklearn.preprocessing import StandardScaler, OneHotEncoder, OrdinalEncoder\n",
    "import pickle"
   ]
  },
  {
   "cell_type": "code",
   "execution_count": 2,
   "id": "651f027e",
   "metadata": {},
   "outputs": [],
   "source": [
    "data = pd.read_csv(r\"drug200.csv\")"
   ]
  },
  {
   "cell_type": "code",
   "execution_count": 3,
   "id": "6d1abefc",
   "metadata": {},
   "outputs": [
    {
     "data": {
      "text/html": [
       "<div>\n",
       "<style scoped>\n",
       "    .dataframe tbody tr th:only-of-type {\n",
       "        vertical-align: middle;\n",
       "    }\n",
       "\n",
       "    .dataframe tbody tr th {\n",
       "        vertical-align: top;\n",
       "    }\n",
       "\n",
       "    .dataframe thead th {\n",
       "        text-align: right;\n",
       "    }\n",
       "</style>\n",
       "<table border=\"1\" class=\"dataframe\">\n",
       "  <thead>\n",
       "    <tr style=\"text-align: right;\">\n",
       "      <th></th>\n",
       "      <th>Age</th>\n",
       "      <th>Sex</th>\n",
       "      <th>BP</th>\n",
       "      <th>Cholesterol</th>\n",
       "      <th>Na_to_K</th>\n",
       "      <th>Drug</th>\n",
       "    </tr>\n",
       "  </thead>\n",
       "  <tbody>\n",
       "    <tr>\n",
       "      <th>0</th>\n",
       "      <td>23</td>\n",
       "      <td>F</td>\n",
       "      <td>HIGH</td>\n",
       "      <td>HIGH</td>\n",
       "      <td>25.355</td>\n",
       "      <td>DrugY</td>\n",
       "    </tr>\n",
       "    <tr>\n",
       "      <th>1</th>\n",
       "      <td>47</td>\n",
       "      <td>M</td>\n",
       "      <td>LOW</td>\n",
       "      <td>HIGH</td>\n",
       "      <td>13.093</td>\n",
       "      <td>drugC</td>\n",
       "    </tr>\n",
       "    <tr>\n",
       "      <th>2</th>\n",
       "      <td>47</td>\n",
       "      <td>M</td>\n",
       "      <td>LOW</td>\n",
       "      <td>HIGH</td>\n",
       "      <td>10.114</td>\n",
       "      <td>drugC</td>\n",
       "    </tr>\n",
       "    <tr>\n",
       "      <th>3</th>\n",
       "      <td>28</td>\n",
       "      <td>F</td>\n",
       "      <td>NORMAL</td>\n",
       "      <td>HIGH</td>\n",
       "      <td>7.798</td>\n",
       "      <td>drugX</td>\n",
       "    </tr>\n",
       "    <tr>\n",
       "      <th>4</th>\n",
       "      <td>61</td>\n",
       "      <td>F</td>\n",
       "      <td>LOW</td>\n",
       "      <td>HIGH</td>\n",
       "      <td>18.043</td>\n",
       "      <td>DrugY</td>\n",
       "    </tr>\n",
       "  </tbody>\n",
       "</table>\n",
       "</div>"
      ],
      "text/plain": [
       "   Age Sex      BP Cholesterol  Na_to_K   Drug\n",
       "0   23   F    HIGH        HIGH   25.355  DrugY\n",
       "1   47   M     LOW        HIGH   13.093  drugC\n",
       "2   47   M     LOW        HIGH   10.114  drugC\n",
       "3   28   F  NORMAL        HIGH    7.798  drugX\n",
       "4   61   F     LOW        HIGH   18.043  DrugY"
      ]
     },
     "execution_count": 3,
     "metadata": {},
     "output_type": "execute_result"
    }
   ],
   "source": [
    "data.head()"
   ]
  },
  {
   "cell_type": "markdown",
   "id": "78e88137",
   "metadata": {},
   "source": [
    "## 3) Simple EDA for Understading Data"
   ]
  },
  {
   "cell_type": "code",
   "execution_count": 4,
   "id": "832dd918",
   "metadata": {},
   "outputs": [
    {
     "data": {
      "text/html": [
       "<div>\n",
       "<style scoped>\n",
       "    .dataframe tbody tr th:only-of-type {\n",
       "        vertical-align: middle;\n",
       "    }\n",
       "\n",
       "    .dataframe tbody tr th {\n",
       "        vertical-align: top;\n",
       "    }\n",
       "\n",
       "    .dataframe thead th {\n",
       "        text-align: right;\n",
       "    }\n",
       "</style>\n",
       "<table border=\"1\" class=\"dataframe\">\n",
       "  <thead>\n",
       "    <tr style=\"text-align: right;\">\n",
       "      <th></th>\n",
       "      <th>Age</th>\n",
       "      <th>Na_to_K</th>\n",
       "    </tr>\n",
       "  </thead>\n",
       "  <tbody>\n",
       "    <tr>\n",
       "      <th>count</th>\n",
       "      <td>200.000000</td>\n",
       "      <td>200.000000</td>\n",
       "    </tr>\n",
       "    <tr>\n",
       "      <th>mean</th>\n",
       "      <td>44.315000</td>\n",
       "      <td>16.084485</td>\n",
       "    </tr>\n",
       "    <tr>\n",
       "      <th>std</th>\n",
       "      <td>16.544315</td>\n",
       "      <td>7.223956</td>\n",
       "    </tr>\n",
       "    <tr>\n",
       "      <th>min</th>\n",
       "      <td>15.000000</td>\n",
       "      <td>6.269000</td>\n",
       "    </tr>\n",
       "    <tr>\n",
       "      <th>25%</th>\n",
       "      <td>31.000000</td>\n",
       "      <td>10.445500</td>\n",
       "    </tr>\n",
       "    <tr>\n",
       "      <th>50%</th>\n",
       "      <td>45.000000</td>\n",
       "      <td>13.936500</td>\n",
       "    </tr>\n",
       "    <tr>\n",
       "      <th>75%</th>\n",
       "      <td>58.000000</td>\n",
       "      <td>19.380000</td>\n",
       "    </tr>\n",
       "    <tr>\n",
       "      <th>max</th>\n",
       "      <td>74.000000</td>\n",
       "      <td>38.247000</td>\n",
       "    </tr>\n",
       "  </tbody>\n",
       "</table>\n",
       "</div>"
      ],
      "text/plain": [
       "              Age     Na_to_K\n",
       "count  200.000000  200.000000\n",
       "mean    44.315000   16.084485\n",
       "std     16.544315    7.223956\n",
       "min     15.000000    6.269000\n",
       "25%     31.000000   10.445500\n",
       "50%     45.000000   13.936500\n",
       "75%     58.000000   19.380000\n",
       "max     74.000000   38.247000"
      ]
     },
     "execution_count": 4,
     "metadata": {},
     "output_type": "execute_result"
    }
   ],
   "source": [
    "data.describe()"
   ]
  },
  {
   "cell_type": "code",
   "execution_count": 5,
   "id": "a0407aee",
   "metadata": {},
   "outputs": [
    {
     "data": {
      "text/plain": [
       "(200, 6)"
      ]
     },
     "execution_count": 5,
     "metadata": {},
     "output_type": "execute_result"
    }
   ],
   "source": [
    "data.shape # To check how many rows and columns are present inside Dataset"
   ]
  },
  {
   "cell_type": "code",
   "execution_count": 6,
   "id": "65f68115",
   "metadata": {},
   "outputs": [
    {
     "name": "stdout",
     "output_type": "stream",
     "text": [
      "<class 'pandas.core.frame.DataFrame'>\n",
      "RangeIndex: 200 entries, 0 to 199\n",
      "Data columns (total 6 columns):\n",
      " #   Column       Non-Null Count  Dtype  \n",
      "---  ------       --------------  -----  \n",
      " 0   Age          200 non-null    int64  \n",
      " 1   Sex          200 non-null    object \n",
      " 2   BP           200 non-null    object \n",
      " 3   Cholesterol  200 non-null    object \n",
      " 4   Na_to_K      200 non-null    float64\n",
      " 5   Drug         200 non-null    object \n",
      "dtypes: float64(1), int64(1), object(4)\n",
      "memory usage: 9.5+ KB\n"
     ]
    }
   ],
   "source": [
    "data.info() # To check the infomation about Dataset"
   ]
  },
  {
   "cell_type": "code",
   "execution_count": 7,
   "id": "e218285c",
   "metadata": {},
   "outputs": [
    {
     "data": {
      "text/plain": [
       "Age            0\n",
       "Sex            0\n",
       "BP             0\n",
       "Cholesterol    0\n",
       "Na_to_K        0\n",
       "Drug           0\n",
       "dtype: int64"
      ]
     },
     "execution_count": 7,
     "metadata": {},
     "output_type": "execute_result"
    }
   ],
   "source": [
    "data.isnull().sum() # To check if null values is present or not"
   ]
  },
  {
   "cell_type": "markdown",
   "id": "33f32af4",
   "metadata": {},
   "source": [
    "**There is no Null values in our Dataset**"
   ]
  },
  {
   "cell_type": "code",
   "execution_count": 8,
   "id": "11d37e93",
   "metadata": {},
   "outputs": [
    {
     "name": "stdout",
     "output_type": "stream",
     "text": [
      "Sex\n",
      "M    104\n",
      "F     96\n",
      "Name: count, dtype: int64\n",
      "BP\n",
      "HIGH      77\n",
      "LOW       64\n",
      "NORMAL    59\n",
      "Name: count, dtype: int64\n",
      "Cholesterol\n",
      "HIGH      103\n",
      "NORMAL     97\n",
      "Name: count, dtype: int64\n"
     ]
    }
   ],
   "source": [
    "categorical_columns = ['Sex', 'BP', 'Cholesterol']\n",
    "\n",
    "for col in categorical_columns:\n",
    "    print(data[col].value_counts())"
   ]
  },
  {
   "cell_type": "code",
   "execution_count": 9,
   "id": "38c5fd81",
   "metadata": {},
   "outputs": [
    {
     "data": {
      "text/plain": [
       "0"
      ]
     },
     "execution_count": 9,
     "metadata": {},
     "output_type": "execute_result"
    }
   ],
   "source": [
    "data.duplicated().sum() # To check if duplicate data is present or not"
   ]
  },
  {
   "cell_type": "markdown",
   "id": "8869091c",
   "metadata": {},
   "source": [
    "**There is no Duplicate values in our dataset**"
   ]
  },
  {
   "cell_type": "code",
   "execution_count": 10,
   "id": "5bbc2eaa",
   "metadata": {},
   "outputs": [
    {
     "data": {
      "text/plain": [
       "Drug\n",
       "DrugY    91\n",
       "drugX    54\n",
       "drugA    23\n",
       "drugC    16\n",
       "drugB    16\n",
       "Name: count, dtype: int64"
      ]
     },
     "execution_count": 10,
     "metadata": {},
     "output_type": "execute_result"
    }
   ],
   "source": [
    "data['Drug'].value_counts() # To check if dataset is balanced or imbalanced"
   ]
  },
  {
   "cell_type": "code",
   "execution_count": 11,
   "id": "f2a87ff6",
   "metadata": {},
   "outputs": [],
   "source": [
    "datac = data.copy()"
   ]
  },
  {
   "cell_type": "code",
   "execution_count": 12,
   "id": "a86adf13",
   "metadata": {},
   "outputs": [
    {
     "data": {
      "text/html": [
       "<div>\n",
       "<style scoped>\n",
       "    .dataframe tbody tr th:only-of-type {\n",
       "        vertical-align: middle;\n",
       "    }\n",
       "\n",
       "    .dataframe tbody tr th {\n",
       "        vertical-align: top;\n",
       "    }\n",
       "\n",
       "    .dataframe thead th {\n",
       "        text-align: right;\n",
       "    }\n",
       "</style>\n",
       "<table border=\"1\" class=\"dataframe\">\n",
       "  <thead>\n",
       "    <tr style=\"text-align: right;\">\n",
       "      <th></th>\n",
       "      <th>Age</th>\n",
       "      <th>Sex</th>\n",
       "      <th>BP</th>\n",
       "      <th>Cholesterol</th>\n",
       "      <th>Na_to_K</th>\n",
       "      <th>Drug</th>\n",
       "    </tr>\n",
       "  </thead>\n",
       "  <tbody>\n",
       "    <tr>\n",
       "      <th>0</th>\n",
       "      <td>23</td>\n",
       "      <td>F</td>\n",
       "      <td>HIGH</td>\n",
       "      <td>HIGH</td>\n",
       "      <td>25.355</td>\n",
       "      <td>DrugY</td>\n",
       "    </tr>\n",
       "    <tr>\n",
       "      <th>1</th>\n",
       "      <td>47</td>\n",
       "      <td>M</td>\n",
       "      <td>LOW</td>\n",
       "      <td>HIGH</td>\n",
       "      <td>13.093</td>\n",
       "      <td>drugC</td>\n",
       "    </tr>\n",
       "    <tr>\n",
       "      <th>2</th>\n",
       "      <td>47</td>\n",
       "      <td>M</td>\n",
       "      <td>LOW</td>\n",
       "      <td>HIGH</td>\n",
       "      <td>10.114</td>\n",
       "      <td>drugC</td>\n",
       "    </tr>\n",
       "    <tr>\n",
       "      <th>3</th>\n",
       "      <td>28</td>\n",
       "      <td>F</td>\n",
       "      <td>NORMAL</td>\n",
       "      <td>HIGH</td>\n",
       "      <td>7.798</td>\n",
       "      <td>drugX</td>\n",
       "    </tr>\n",
       "    <tr>\n",
       "      <th>4</th>\n",
       "      <td>61</td>\n",
       "      <td>F</td>\n",
       "      <td>LOW</td>\n",
       "      <td>HIGH</td>\n",
       "      <td>18.043</td>\n",
       "      <td>DrugY</td>\n",
       "    </tr>\n",
       "  </tbody>\n",
       "</table>\n",
       "</div>"
      ],
      "text/plain": [
       "   Age Sex      BP Cholesterol  Na_to_K   Drug\n",
       "0   23   F    HIGH        HIGH   25.355  DrugY\n",
       "1   47   M     LOW        HIGH   13.093  drugC\n",
       "2   47   M     LOW        HIGH   10.114  drugC\n",
       "3   28   F  NORMAL        HIGH    7.798  drugX\n",
       "4   61   F     LOW        HIGH   18.043  DrugY"
      ]
     },
     "execution_count": 12,
     "metadata": {},
     "output_type": "execute_result"
    }
   ],
   "source": [
    "datac.head()"
   ]
  },
  {
   "cell_type": "code",
   "execution_count": 13,
   "id": "22ae0cad",
   "metadata": {},
   "outputs": [],
   "source": [
    "lb = LabelEncoder()  # To convert categorical variables into numerical format\n",
    "datac[\"Drug\"] = lb.fit_transform(datac[\"Drug\"])"
   ]
  },
  {
   "cell_type": "code",
   "execution_count": 14,
   "id": "46116b18",
   "metadata": {},
   "outputs": [
    {
     "name": "stdout",
     "output_type": "stream",
     "text": [
      "Drug Mapping:\n",
      "DrugY: 0\n",
      "drugA: 1\n",
      "drugB: 2\n",
      "drugC: 3\n",
      "drugX: 4\n"
     ]
    }
   ],
   "source": [
    "# Creating a mapping between original drug names and encoded numbers\n",
    "drug_mapping = dict(zip(lb.classes_, lb.transform(lb.classes_)))\n",
    "\n",
    "# Printing the mapping\n",
    "print(\"Drug Mapping:\")\n",
    "for drug, code in drug_mapping.items():\n",
    "    print(f\"{drug}: {code}\")"
   ]
  },
  {
   "cell_type": "code",
   "execution_count": 15,
   "id": "fb3aaa55",
   "metadata": {},
   "outputs": [],
   "source": [
    "feature_var = datac.iloc[:,0:-1]\n",
    "class_label = datac.iloc[:,-1] "
   ]
  },
  {
   "cell_type": "code",
   "execution_count": 16,
   "id": "ce273f37",
   "metadata": {},
   "outputs": [
    {
     "data": {
      "text/html": [
       "<div>\n",
       "<style scoped>\n",
       "    .dataframe tbody tr th:only-of-type {\n",
       "        vertical-align: middle;\n",
       "    }\n",
       "\n",
       "    .dataframe tbody tr th {\n",
       "        vertical-align: top;\n",
       "    }\n",
       "\n",
       "    .dataframe thead th {\n",
       "        text-align: right;\n",
       "    }\n",
       "</style>\n",
       "<table border=\"1\" class=\"dataframe\">\n",
       "  <thead>\n",
       "    <tr style=\"text-align: right;\">\n",
       "      <th></th>\n",
       "      <th>Age</th>\n",
       "      <th>Sex</th>\n",
       "      <th>BP</th>\n",
       "      <th>Cholesterol</th>\n",
       "      <th>Na_to_K</th>\n",
       "    </tr>\n",
       "  </thead>\n",
       "  <tbody>\n",
       "    <tr>\n",
       "      <th>0</th>\n",
       "      <td>23</td>\n",
       "      <td>F</td>\n",
       "      <td>HIGH</td>\n",
       "      <td>HIGH</td>\n",
       "      <td>25.355</td>\n",
       "    </tr>\n",
       "    <tr>\n",
       "      <th>1</th>\n",
       "      <td>47</td>\n",
       "      <td>M</td>\n",
       "      <td>LOW</td>\n",
       "      <td>HIGH</td>\n",
       "      <td>13.093</td>\n",
       "    </tr>\n",
       "    <tr>\n",
       "      <th>2</th>\n",
       "      <td>47</td>\n",
       "      <td>M</td>\n",
       "      <td>LOW</td>\n",
       "      <td>HIGH</td>\n",
       "      <td>10.114</td>\n",
       "    </tr>\n",
       "    <tr>\n",
       "      <th>3</th>\n",
       "      <td>28</td>\n",
       "      <td>F</td>\n",
       "      <td>NORMAL</td>\n",
       "      <td>HIGH</td>\n",
       "      <td>7.798</td>\n",
       "    </tr>\n",
       "    <tr>\n",
       "      <th>4</th>\n",
       "      <td>61</td>\n",
       "      <td>F</td>\n",
       "      <td>LOW</td>\n",
       "      <td>HIGH</td>\n",
       "      <td>18.043</td>\n",
       "    </tr>\n",
       "  </tbody>\n",
       "</table>\n",
       "</div>"
      ],
      "text/plain": [
       "   Age Sex      BP Cholesterol  Na_to_K\n",
       "0   23   F    HIGH        HIGH   25.355\n",
       "1   47   M     LOW        HIGH   13.093\n",
       "2   47   M     LOW        HIGH   10.114\n",
       "3   28   F  NORMAL        HIGH    7.798\n",
       "4   61   F     LOW        HIGH   18.043"
      ]
     },
     "execution_count": 16,
     "metadata": {},
     "output_type": "execute_result"
    }
   ],
   "source": [
    "feature_var.head()"
   ]
  },
  {
   "cell_type": "code",
   "execution_count": 17,
   "id": "036faa8a",
   "metadata": {},
   "outputs": [
    {
     "data": {
      "text/plain": [
       "0    0\n",
       "1    3\n",
       "2    3\n",
       "3    4\n",
       "4    0\n",
       "Name: Drug, dtype: int32"
      ]
     },
     "execution_count": 17,
     "metadata": {},
     "output_type": "execute_result"
    }
   ],
   "source": [
    "class_label.head()"
   ]
  },
  {
   "cell_type": "markdown",
   "id": "1e129190",
   "metadata": {},
   "source": [
    "## 4) Data Pre-Processing"
   ]
  },
  {
   "cell_type": "markdown",
   "id": "34373f3a",
   "metadata": {},
   "source": [
    "### Dividing Feature_var into 3 parts, i.e., numerical_data, nominal_data and ordinal_data"
   ]
  },
  {
   "cell_type": "code",
   "execution_count": 18,
   "id": "59e94ef8",
   "metadata": {},
   "outputs": [],
   "source": [
    "numerical_data = feature_var[[\"Age\", \"Na_to_K\"]]\n",
    "nominal_data = feature_var[[\"Sex\"]]\n",
    "ordinal_data = feature_var[[\"BP\", \"Cholesterol\"]]"
   ]
  },
  {
   "cell_type": "markdown",
   "id": "40a830f5",
   "metadata": {},
   "source": [
    "### Creating Pipeline"
   ]
  },
  {
   "cell_type": "code",
   "execution_count": 19,
   "id": "e7194a43",
   "metadata": {},
   "outputs": [],
   "source": [
    "num_p = Pipeline(steps=[(\"Imputation\", SimpleImputer()),(\"Scaling\", StandardScaler()),(\"Power Transformer\", PowerTransformer(\"yeo-johnson\"))])\n",
    "nom_p = Pipeline(steps=[(\"Imputation\", SimpleImputer(strategy=\"most_frequent\")), (\"OH_Encoding\", OneHotEncoder())])\n",
    "ord_p = Pipeline(steps=[(\"Imputation\", SimpleImputer(strategy=\"most_frequent\")), (\"O_Encoding\", OrdinalEncoder())])"
   ]
  },
  {
   "cell_type": "code",
   "execution_count": 20,
   "id": "5d9196e2",
   "metadata": {},
   "outputs": [
    {
     "data": {
      "text/plain": [
       "0        HIGH\n",
       "1         LOW\n",
       "2         LOW\n",
       "3      NORMAL\n",
       "4         LOW\n",
       "        ...  \n",
       "195       LOW\n",
       "196       LOW\n",
       "197    NORMAL\n",
       "198    NORMAL\n",
       "199       LOW\n",
       "Name: BP, Length: 200, dtype: object"
      ]
     },
     "execution_count": 20,
     "metadata": {},
     "output_type": "execute_result"
    }
   ],
   "source": [
    "feature_var[\"BP\"]"
   ]
  },
  {
   "cell_type": "code",
   "execution_count": 21,
   "id": "6ea7ef95",
   "metadata": {},
   "outputs": [],
   "source": [
    "ct_p = ColumnTransformer([(\"Numerical\", num_p, numerical_data.columns),\n",
    "                          (\"Nominal_Categorical\", nom_p, nominal_data.columns),\n",
    "                          (\"Ordinal_Categorical\", ord_p, ordinal_data.columns)], remainder=\"passthrough\")"
   ]
  },
  {
   "cell_type": "markdown",
   "id": "f4b8199a",
   "metadata": {},
   "source": [
    "### Dividing feature_var into train and test then divide train into train and cv"
   ]
  },
  {
   "cell_type": "code",
   "execution_count": 22,
   "id": "bf692aa6",
   "metadata": {},
   "outputs": [],
   "source": [
    "x_train, x_test, y_train, y_test = train_test_split(feature_var, class_label, test_size=0.2, random_state=2, stratify=class_label)"
   ]
  },
  {
   "cell_type": "code",
   "execution_count": 23,
   "id": "ceb66029",
   "metadata": {},
   "outputs": [],
   "source": [
    "x_train, x_cv, y_train, y_cv = train_test_split(x_train, y_train, test_size=0.2, random_state=2, stratify=y_train)"
   ]
  },
  {
   "cell_type": "markdown",
   "id": "6acd3251",
   "metadata": {},
   "source": [
    "## 5) EDA"
   ]
  },
  {
   "cell_type": "code",
   "execution_count": 24,
   "id": "aced846d",
   "metadata": {},
   "outputs": [
    {
     "data": {
      "text/html": [
       "<div>\n",
       "<style scoped>\n",
       "    .dataframe tbody tr th:only-of-type {\n",
       "        vertical-align: middle;\n",
       "    }\n",
       "\n",
       "    .dataframe tbody tr th {\n",
       "        vertical-align: top;\n",
       "    }\n",
       "\n",
       "    .dataframe thead th {\n",
       "        text-align: right;\n",
       "    }\n",
       "</style>\n",
       "<table border=\"1\" class=\"dataframe\">\n",
       "  <thead>\n",
       "    <tr style=\"text-align: right;\">\n",
       "      <th></th>\n",
       "      <th>Age</th>\n",
       "      <th>Sex</th>\n",
       "      <th>BP</th>\n",
       "      <th>Cholesterol</th>\n",
       "      <th>Na_to_K</th>\n",
       "      <th>Drug</th>\n",
       "    </tr>\n",
       "  </thead>\n",
       "  <tbody>\n",
       "    <tr>\n",
       "      <th>150</th>\n",
       "      <td>49</td>\n",
       "      <td>M</td>\n",
       "      <td>HIGH</td>\n",
       "      <td>NORMAL</td>\n",
       "      <td>8.700</td>\n",
       "      <td>1</td>\n",
       "    </tr>\n",
       "    <tr>\n",
       "      <th>89</th>\n",
       "      <td>50</td>\n",
       "      <td>F</td>\n",
       "      <td>NORMAL</td>\n",
       "      <td>NORMAL</td>\n",
       "      <td>17.211</td>\n",
       "      <td>0</td>\n",
       "    </tr>\n",
       "    <tr>\n",
       "      <th>80</th>\n",
       "      <td>60</td>\n",
       "      <td>M</td>\n",
       "      <td>HIGH</td>\n",
       "      <td>HIGH</td>\n",
       "      <td>13.934</td>\n",
       "      <td>2</td>\n",
       "    </tr>\n",
       "    <tr>\n",
       "      <th>69</th>\n",
       "      <td>18</td>\n",
       "      <td>F</td>\n",
       "      <td>HIGH</td>\n",
       "      <td>NORMAL</td>\n",
       "      <td>24.276</td>\n",
       "      <td>0</td>\n",
       "    </tr>\n",
       "    <tr>\n",
       "      <th>191</th>\n",
       "      <td>23</td>\n",
       "      <td>M</td>\n",
       "      <td>HIGH</td>\n",
       "      <td>HIGH</td>\n",
       "      <td>8.011</td>\n",
       "      <td>1</td>\n",
       "    </tr>\n",
       "    <tr>\n",
       "      <th>...</th>\n",
       "      <td>...</td>\n",
       "      <td>...</td>\n",
       "      <td>...</td>\n",
       "      <td>...</td>\n",
       "      <td>...</td>\n",
       "      <td>...</td>\n",
       "    </tr>\n",
       "    <tr>\n",
       "      <th>29</th>\n",
       "      <td>45</td>\n",
       "      <td>M</td>\n",
       "      <td>LOW</td>\n",
       "      <td>HIGH</td>\n",
       "      <td>17.951</td>\n",
       "      <td>0</td>\n",
       "    </tr>\n",
       "    <tr>\n",
       "      <th>42</th>\n",
       "      <td>50</td>\n",
       "      <td>M</td>\n",
       "      <td>NORMAL</td>\n",
       "      <td>NORMAL</td>\n",
       "      <td>15.790</td>\n",
       "      <td>0</td>\n",
       "    </tr>\n",
       "    <tr>\n",
       "      <th>79</th>\n",
       "      <td>32</td>\n",
       "      <td>F</td>\n",
       "      <td>LOW</td>\n",
       "      <td>NORMAL</td>\n",
       "      <td>10.840</td>\n",
       "      <td>4</td>\n",
       "    </tr>\n",
       "    <tr>\n",
       "      <th>186</th>\n",
       "      <td>70</td>\n",
       "      <td>M</td>\n",
       "      <td>HIGH</td>\n",
       "      <td>HIGH</td>\n",
       "      <td>9.849</td>\n",
       "      <td>2</td>\n",
       "    </tr>\n",
       "    <tr>\n",
       "      <th>102</th>\n",
       "      <td>28</td>\n",
       "      <td>F</td>\n",
       "      <td>LOW</td>\n",
       "      <td>HIGH</td>\n",
       "      <td>13.127</td>\n",
       "      <td>3</td>\n",
       "    </tr>\n",
       "  </tbody>\n",
       "</table>\n",
       "<p>128 rows × 6 columns</p>\n",
       "</div>"
      ],
      "text/plain": [
       "     Age Sex      BP Cholesterol  Na_to_K  Drug\n",
       "150   49   M    HIGH      NORMAL    8.700     1\n",
       "89    50   F  NORMAL      NORMAL   17.211     0\n",
       "80    60   M    HIGH        HIGH   13.934     2\n",
       "69    18   F    HIGH      NORMAL   24.276     0\n",
       "191   23   M    HIGH        HIGH    8.011     1\n",
       "..   ...  ..     ...         ...      ...   ...\n",
       "29    45   M     LOW        HIGH   17.951     0\n",
       "42    50   M  NORMAL      NORMAL   15.790     0\n",
       "79    32   F     LOW      NORMAL   10.840     4\n",
       "186   70   M    HIGH        HIGH    9.849     2\n",
       "102   28   F     LOW        HIGH   13.127     3\n",
       "\n",
       "[128 rows x 6 columns]"
      ]
     },
     "execution_count": 24,
     "metadata": {},
     "output_type": "execute_result"
    }
   ],
   "source": [
    "data_eda = pd.concat([x_train, y_train], axis = 1)\n",
    "data_eda "
   ]
  },
  {
   "cell_type": "markdown",
   "id": "07a9da71",
   "metadata": {},
   "source": [
    "### Below code is used to remove warning "
   ]
  },
  {
   "cell_type": "code",
   "execution_count": 25,
   "id": "3cd6e354",
   "metadata": {},
   "outputs": [],
   "source": [
    "import warnings\n",
    "warnings.filterwarnings('ignore')"
   ]
  },
  {
   "cell_type": "markdown",
   "id": "0ee2b2da",
   "metadata": {},
   "source": [
    "### Histogram for Numerical Data"
   ]
  },
  {
   "cell_type": "code",
   "execution_count": 26,
   "id": "038a9c6f",
   "metadata": {},
   "outputs": [
    {
     "data": {
      "image/png": "[encoded data removed]",
      "text/plain": [
       "<Figure size 800x400 with 2 Axes>"
      ]
     },
     "metadata": {},
     "output_type": "display_data"
    }
   ],
   "source": [
    "data_eda.hist(column=['Age', 'Na_to_K'], figsize=(8,4))\n",
    "plt.show()"
   ]
  },
  {
   "cell_type": "markdown",
   "id": "1f0bb04a",
   "metadata": {},
   "source": [
    "**--> In Age column, more peoples are around 45-50 & In Na_to_K column, average is around 10-13.**"
   ]
  },
  {
   "cell_type": "markdown",
   "id": "8968f5f0",
   "metadata": {},
   "source": [
    "### Count Plot for Categorical Data"
   ]
  },
  {
   "cell_type": "code",
   "execution_count": 27,
   "id": "f56a3579",
   "metadata": {},
   "outputs": [
    {
     "data": {
      "image/png": "[encoded data removed]",
      "text/plain": [
       "<Figure size 640x480 with 1 Axes>"
      ]
     },
     "metadata": {},
     "output_type": "display_data"
    },
    {
     "data": {
      "image/png": "[encoded data removed]",
      "text/plain": [
       "<Figure size 640x480 with 1 Axes>"
      ]
     },
     "metadata": {},
     "output_type": "display_data"
    },
    {
     "data": {
      "image/png": "[encoded data removed]",
      "text/plain": [
       "<Figure size 640x480 with 1 Axes>"
      ]
     },
     "metadata": {},
     "output_type": "display_data"
    },
    {
     "data": {
      "image/png": "[encoded data removed]",
      "text/plain": [
       "<Figure size 640x480 with 1 Axes>"
      ]
     },
     "metadata": {},
     "output_type": "display_data"
    },
    {
     "data": {
      "image/png": "[encoded data removed]",
      "text/plain": [
       "<Figure size 640x480 with 1 Axes>"
      ]
     },
     "metadata": {},
     "output_type": "display_data"
    },
    {
     "data": {
      "image/png": "[encoded data removed]",
      "text/plain": [
       "<Figure size 640x480 with 1 Axes>"
      ]
     },
     "metadata": {},
     "output_type": "display_data"
    }
   ],
   "source": [
    "c_col = ['Sex', 'BP', 'Cholesterol']\n",
    "hue = ['BP', 'Cholesterol', 'Sex']\n",
    "\n",
    "for i in c_col:\n",
    "    for j in hue:\n",
    "        if i == j:\n",
    "            pass\n",
    "        else:            \n",
    "            sns.countplot(data=feature_var, x=i, hue=j)\n",
    "            plt.title(f'Count Plot for {i} and {j} Columns ')\n",
    "            plt.xlabel(i)\n",
    "            plt.ylabel(j)\n",
    "            plt.show()"
   ]
  },
  {
   "cell_type": "markdown",
   "id": "2dbea694",
   "metadata": {},
   "source": [
    "### Correlation for Numerical Data"
   ]
  },
  {
   "cell_type": "code",
   "execution_count": 28,
   "id": "0ce667ad",
   "metadata": {},
   "outputs": [
    {
     "data": {
      "text/plain": [
       "<Axes: >"
      ]
     },
     "execution_count": 28,
     "metadata": {},
     "output_type": "execute_result"
    },
    {
     "data": {
      "image/png": "[encoded data removed]",
      "text/plain": [
       "<Figure size 640x480 with 2 Axes>"
      ]
     },
     "metadata": {},
     "output_type": "display_data"
    }
   ],
   "source": [
    "numerical_columns = ['Age', 'Na_to_K']\n",
    "numerical_data = x_train[numerical_columns]\n",
    "correlation_matrix = numerical_data.corr()\n",
    "sns.heatmap(correlation_matrix, annot = True, cmap='coolwarm', center=0)"
   ]
  },
  {
   "cell_type": "markdown",
   "id": "e3edd6d2",
   "metadata": {},
   "source": [
    "## 6) Training"
   ]
  },
  {
   "cell_type": "code",
   "execution_count": 29,
   "id": "4f4ac89c",
   "metadata": {},
   "outputs": [
    {
     "data": {
      "text/plain": [
       "array([[ 0.42753935, -1.36971046,  0.        ,  1.        ,  0.        ,\n",
       "         1.        ],\n",
       "       [ 0.49047055,  0.44919332,  1.        ,  0.        ,  2.        ,\n",
       "         1.        ],\n",
       "       [ 1.10855857, -0.09789398,  0.        ,  1.        ,  0.        ,\n",
       "         0.        ],\n",
       "       [-1.6534239 ,  1.17917826,  1.        ,  0.        ,  0.        ,\n",
       "         1.        ],\n",
       "       [-1.30409309, -1.57252841,  0.        ,  1.        ,  0.        ,\n",
       "         0.        ],\n",
       "       [ 0.67791819, -0.39952983,  1.        ,  0.        ,  0.        ,\n",
       "         1.        ],\n",
       "       [ 0.30093572, -0.90336786,  0.        ,  1.        ,  0.        ,\n",
       "         0.        ],\n",
       "       [ 1.41135434, -0.13059883,  1.        ,  0.        ,  1.        ,\n",
       "         1.        ],\n",
       "       [-0.02059904,  0.7879919 ,  0.        ,  1.        ,  1.        ,\n",
       "         0.        ],\n",
       "       [ 1.59139727, -0.95921744,  1.        ,  0.        ,  0.        ,\n",
       "         1.        ],\n",
       "       [-1.30409309,  0.3982972 ,  0.        ,  1.        ,  2.        ,\n",
       "         0.        ],\n",
       "       [-0.95888572,  0.76466897,  1.        ,  0.        ,  1.        ,\n",
       "         0.        ],\n",
       "       [ 0.17325159, -1.0046813 ,  0.        ,  1.        ,  1.        ,\n",
       "         1.        ],\n",
       "       [ 0.04435318, -0.09043141,  0.        ,  1.        ,  0.        ,\n",
       "         0.        ],\n",
       "       [ 1.04755185, -0.89275843,  1.        ,  0.        ,  1.        ,\n",
       "         0.        ],\n",
       "       [ 0.92505   ,  0.69016952,  0.        ,  1.        ,  1.        ,\n",
       "         1.        ],\n",
       "       [ 1.16940972, -1.16010462,  0.        ,  1.        ,  2.        ,\n",
       "         0.        ],\n",
       "       [-0.35005278, -0.27011374,  1.        ,  0.        ,  0.        ,\n",
       "         0.        ],\n",
       "       [ 0.23723637,  1.83157433,  1.        ,  0.        ,  0.        ,\n",
       "         0.        ],\n",
       "       [ 0.30093572,  1.60781432,  0.        ,  1.        ,  1.        ,\n",
       "         1.        ],\n",
       "       [-0.08588613,  1.06525003,  1.        ,  0.        ,  2.        ,\n",
       "         1.        ],\n",
       "       [ 0.49047055, -0.44437075,  1.        ,  0.        ,  2.        ,\n",
       "         1.        ],\n",
       "       [ 1.04755185, -0.10775279,  1.        ,  0.        ,  2.        ,\n",
       "         0.        ],\n",
       "       [-0.21739548, -0.09710722,  0.        ,  1.        ,  1.        ,\n",
       "         1.        ],\n",
       "       [-0.68610265,  1.3083504 ,  1.        ,  0.        ,  0.        ,\n",
       "         1.        ],\n",
       "       [-0.48375812, -1.62260301,  0.        ,  1.        ,  2.        ,\n",
       "         1.        ],\n",
       "       [-0.02059904,  1.52947823,  1.        ,  0.        ,  1.        ,\n",
       "         1.        ],\n",
       "       [-0.28358732,  1.56649363,  1.        ,  0.        ,  1.        ,\n",
       "         1.        ],\n",
       "       [ 0.42753935, -0.86880141,  0.        ,  1.        ,  1.        ,\n",
       "         0.        ],\n",
       "       [ 1.35107831, -1.64812055,  0.        ,  1.        ,  2.        ,\n",
       "         0.        ],\n",
       "       [-1.51322986, -0.5852618 ,  1.        ,  0.        ,  1.        ,\n",
       "         1.        ],\n",
       "       [-0.95888572, -0.31542373,  1.        ,  0.        ,  2.        ,\n",
       "         0.        ],\n",
       "       [-1.37364636,  1.46748638,  0.        ,  1.        ,  0.        ,\n",
       "         1.        ],\n",
       "       [ 0.86354307, -0.61355479,  1.        ,  0.        ,  1.        ,\n",
       "         0.        ],\n",
       "       [-0.48375812, -0.31219152,  1.        ,  0.        ,  0.        ,\n",
       "         0.        ],\n",
       "       [ 1.41135434, -0.66821462,  0.        ,  1.        ,  0.        ,\n",
       "         1.        ],\n",
       "       [-1.86479938,  0.44850206,  0.        ,  1.        ,  0.        ,\n",
       "         1.        ],\n",
       "       [-1.51322986, -1.20499758,  1.        ,  0.        ,  2.        ,\n",
       "         1.        ],\n",
       "       [-1.51322986, -0.68720487,  1.        ,  0.        ,  0.        ,\n",
       "         0.        ],\n",
       "       [-0.35005278, -1.29301317,  0.        ,  1.        ,  1.        ,\n",
       "         1.        ],\n",
       "       [ 0.67791819, -0.05910253,  0.        ,  1.        ,  2.        ,\n",
       "         0.        ],\n",
       "       [-0.35005278,  0.38004303,  0.        ,  1.        ,  1.        ,\n",
       "         1.        ],\n",
       "       [-0.08588613,  0.64475431,  1.        ,  0.        ,  1.        ,\n",
       "         1.        ],\n",
       "       [-1.79420058, -0.51041514,  0.        ,  1.        ,  1.        ,\n",
       "         0.        ],\n",
       "       [ 0.98638422,  0.7228075 ,  1.        ,  0.        ,  0.        ,\n",
       "         0.        ],\n",
       "       [ 0.49047055, -0.35364728,  1.        ,  0.        ,  2.        ,\n",
       "         0.        ],\n",
       "       [-0.35005278, -0.51041514,  1.        ,  0.        ,  1.        ,\n",
       "         1.        ],\n",
       "       [ 1.10855857, -0.22560547,  1.        ,  0.        ,  0.        ,\n",
       "         0.        ],\n",
       "       [-1.37364636, -1.5306615 ,  0.        ,  1.        ,  1.        ,\n",
       "         0.        ],\n",
       "       [ 0.04435318, -0.31973957,  0.        ,  1.        ,  2.        ,\n",
       "         1.        ],\n",
       "       [ 0.98638422,  1.35626069,  1.        ,  0.        ,  1.        ,\n",
       "         0.        ],\n",
       "       [ 0.30093572, -1.98621385,  1.        ,  0.        ,  2.        ,\n",
       "         1.        ],\n",
       "       [ 0.80185692, -1.80248934,  0.        ,  1.        ,  2.        ,\n",
       "         1.        ],\n",
       "       [ 1.16940972,  1.27162241,  1.        ,  0.        ,  0.        ,\n",
       "         0.        ],\n",
       "       [ 1.94824975, -1.12604743,  0.        ,  1.        ,  0.        ,\n",
       "         0.        ],\n",
       "       [ 0.55317051,  0.5909094 ,  0.        ,  1.        ,  0.        ,\n",
       "         0.        ],\n",
       "       [-0.02059904, -0.33990171,  0.        ,  1.        ,  0.        ,\n",
       "         1.        ],\n",
       "       [ 0.42753935, -0.16500944,  0.        ,  1.        ,  1.        ,\n",
       "         1.        ],\n",
       "       [-1.37364636, -1.39661304,  1.        ,  0.        ,  2.        ,\n",
       "         0.        ],\n",
       "       [-0.15149028, -0.66603029,  1.        ,  0.        ,  1.        ,\n",
       "         1.        ],\n",
       "       [-0.55097726,  1.02577148,  0.        ,  1.        ,  2.        ,\n",
       "         0.        ],\n",
       "       [ 0.17325159, -0.32081964,  1.        ,  0.        ,  0.        ,\n",
       "         0.        ],\n",
       "       [-0.41677999, -0.70286615,  1.        ,  0.        ,  0.        ,\n",
       "         0.        ],\n",
       "       [-0.75399263,  0.42941477,  0.        ,  1.        ,  0.        ,\n",
       "         1.        ],\n",
       "       [-0.15149028,  1.43680184,  0.        ,  1.        ,  0.        ,\n",
       "         0.        ],\n",
       "       [ 1.65116167, -0.64041058,  0.        ,  1.        ,  1.        ,\n",
       "         1.        ],\n",
       "       [-0.95888572,  1.3853667 ,  0.        ,  1.        ,  2.        ,\n",
       "         0.        ],\n",
       "       [ 1.88905391,  0.59745523,  1.        ,  0.        ,  0.        ,\n",
       "         0.        ],\n",
       "       [ 1.53151018,  0.25230827,  1.        ,  0.        ,  2.        ,\n",
       "         0.        ],\n",
       "       [-0.21739548, -1.09959069,  0.        ,  1.        ,  0.        ,\n",
       "         0.        ],\n",
       "       [-1.09643794,  0.69395072,  1.        ,  0.        ,  0.        ,\n",
       "         1.        ],\n",
       "       [-0.68610265, -1.08655872,  1.        ,  0.        ,  1.        ,\n",
       "         0.        ],\n",
       "       [-1.16548435,  0.6766749 ,  0.        ,  1.        ,  2.        ,\n",
       "         0.        ],\n",
       "       [ 0.86354307,  1.26564284,  1.        ,  0.        ,  0.        ,\n",
       "         0.        ],\n",
       "       [ 0.92505   , -0.04313443,  1.        ,  0.        ,  2.        ,\n",
       "         0.        ],\n",
       "       [ 1.2301103 ,  1.39352418,  0.        ,  1.        ,  1.        ,\n",
       "         1.        ],\n",
       "       [ 1.10855857,  0.13160057,  0.        ,  1.        ,  2.        ,\n",
       "         0.        ],\n",
       "       [ 0.36436533, -0.89224165,  0.        ,  1.        ,  0.        ,\n",
       "         1.        ],\n",
       "       [-1.44335994,  1.4892407 ,  1.        ,  0.        ,  0.        ,\n",
       "         1.        ],\n",
       "       [-0.68610265, -1.1595532 ,  0.        ,  1.        ,  0.        ,\n",
       "         1.        ],\n",
       "       [ 1.41135434,  1.68270472,  1.        ,  0.        ,  0.        ,\n",
       "         1.        ],\n",
       "       [ 0.30093572, -0.99141224,  1.        ,  0.        ,  1.        ,\n",
       "         0.        ],\n",
       "       [-1.23470428,  0.61081463,  1.        ,  0.        ,  0.        ,\n",
       "         1.        ],\n",
       "       [ 0.04435318,  0.16693953,  0.        ,  1.        ,  1.        ,\n",
       "         0.        ],\n",
       "       [-0.21739548,  0.45112684,  1.        ,  0.        ,  2.        ,\n",
       "         1.        ],\n",
       "       [ 0.92505   , -1.02386474,  1.        ,  0.        ,  0.        ,\n",
       "         1.        ],\n",
       "       [ 0.30093572, -0.2696901 ,  0.        ,  1.        ,  1.        ,\n",
       "         0.        ],\n",
       "       [-0.02059904,  0.89274082,  1.        ,  0.        ,  0.        ,\n",
       "         0.        ],\n",
       "       [-0.95888572, -1.6368659 ,  1.        ,  0.        ,  2.        ,\n",
       "         0.        ],\n",
       "       [ 0.30093572,  1.77279351,  0.        ,  1.        ,  1.        ,\n",
       "         1.        ],\n",
       "       [-0.41677999, -0.64788276,  0.        ,  1.        ,  1.        ,\n",
       "         1.        ],\n",
       "       [-1.58325237, -0.22352586,  1.        ,  0.        ,  0.        ,\n",
       "         0.        ],\n",
       "       [ 1.2301103 ,  0.36093021,  0.        ,  1.        ,  2.        ,\n",
       "         0.        ],\n",
       "       [-1.58325237,  1.30798715,  1.        ,  0.        ,  0.        ,\n",
       "         1.        ],\n",
       "       [ 1.41135434,  1.84715373,  0.        ,  1.        ,  0.        ,\n",
       "         1.        ],\n",
       "       [ 1.59139727, -0.74953392,  0.        ,  1.        ,  0.        ,\n",
       "         0.        ],\n",
       "       [-0.28358732,  0.5909094 ,  0.        ,  1.        ,  1.        ,\n",
       "         0.        ],\n",
       "       [-0.41677999,  0.1862577 ,  1.        ,  0.        ,  0.        ,\n",
       "         1.        ],\n",
       "       [ 1.47149705, -1.54378369,  1.        ,  0.        ,  2.        ,\n",
       "         1.        ],\n",
       "       [-0.75399263,  1.59589258,  0.        ,  1.        ,  0.        ,\n",
       "         0.        ],\n",
       "       [-1.6534239 , -1.35530789,  1.        ,  0.        ,  2.        ,\n",
       "         1.        ],\n",
       "       [-1.09643794, -0.05389443,  1.        ,  0.        ,  1.        ,\n",
       "         0.        ],\n",
       "       [-1.30409309, -1.79092083,  0.        ,  1.        ,  1.        ,\n",
       "         0.        ],\n",
       "       [-0.82209091, -0.89301685,  1.        ,  0.        ,  2.        ,\n",
       "         0.        ],\n",
       "       [ 0.42753935, -0.74829129,  0.        ,  1.        ,  1.        ,\n",
       "         1.        ],\n",
       "       [-0.21739548,  0.26481091,  0.        ,  1.        ,  2.        ,\n",
       "         0.        ],\n",
       "       [ 0.42753935, -1.17723252,  1.        ,  0.        ,  2.        ,\n",
       "         1.        ],\n",
       "       [ 1.94824975,  0.17713676,  0.        ,  1.        ,  0.        ,\n",
       "         1.        ],\n",
       "       [ 1.29066503,  1.30420371,  0.        ,  1.        ,  2.        ,\n",
       "         0.        ],\n",
       "       [-1.30409309, -0.45229069,  0.        ,  1.        ,  2.        ,\n",
       "         0.        ],\n",
       "       [ 1.71080658, -0.09141184,  0.        ,  1.        ,  0.        ,\n",
       "         0.        ],\n",
       "       [ 0.36436533,  0.10790823,  1.        ,  0.        ,  1.        ,\n",
       "         0.        ],\n",
       "       [-0.55097726, -0.30595393,  1.        ,  0.        ,  1.        ,\n",
       "         1.        ],\n",
       "       [-0.21739548, -1.08737206,  1.        ,  0.        ,  2.        ,\n",
       "         1.        ],\n",
       "       [-0.61842825,  1.76985439,  1.        ,  0.        ,  1.        ,\n",
       "         0.        ],\n",
       "       [-0.41677999,  0.38426767,  1.        ,  0.        ,  2.        ,\n",
       "         0.        ],\n",
       "       [-0.21739548,  1.04710402,  1.        ,  0.        ,  1.        ,\n",
       "         1.        ],\n",
       "       [-1.30409309,  1.26264338,  1.        ,  0.        ,  0.        ,\n",
       "         0.        ],\n",
       "       [-1.79420058,  0.19063014,  1.        ,  0.        ,  0.        ,\n",
       "         1.        ],\n",
       "       [ 0.80185692, -0.75749711,  1.        ,  0.        ,  0.        ,\n",
       "         0.        ],\n",
       "       [-1.6534239 ,  1.95246646,  1.        ,  0.        ,  0.        ,\n",
       "         0.        ],\n",
       "       [ 0.67791819,  1.07026713,  0.        ,  1.        ,  1.        ,\n",
       "         0.        ],\n",
       "       [-0.89039072,  1.5405486 ,  1.        ,  0.        ,  0.        ,\n",
       "         0.        ],\n",
       "       [ 0.17325159,  0.54760036,  0.        ,  1.        ,  1.        ,\n",
       "         0.        ],\n",
       "       [ 0.49047055,  0.23595172,  0.        ,  1.        ,  2.        ,\n",
       "         1.        ],\n",
       "       [-0.68610265, -0.79179156,  1.        ,  0.        ,  1.        ,\n",
       "         1.        ],\n",
       "       [ 1.71080658, -1.04958211,  0.        ,  1.        ,  0.        ,\n",
       "         0.        ],\n",
       "       [-0.95888572, -0.26249917,  1.        ,  0.        ,  1.        ,\n",
       "         0.        ]])"
      ]
     },
     "execution_count": 29,
     "metadata": {},
     "output_type": "execute_result"
    }
   ],
   "source": [
    "x_train_t = ct_p.fit_transform(x_train)\n",
    "x_train_t"
   ]
  },
  {
   "cell_type": "code",
   "execution_count": 30,
   "id": "5e89fc24",
   "metadata": {},
   "outputs": [],
   "source": [
    "x_cv_t = ct_p.transform(x_cv)\n",
    "x_test_t = ct_p.transform(x_test)"
   ]
  },
  {
   "cell_type": "code",
   "execution_count": 31,
   "id": "2036225c",
   "metadata": {},
   "outputs": [
    {
     "data": {
      "text/plain": [
       "array(['Numerical__Age', 'Numerical__Na_to_K',\n",
       "       'Nominal_Categorical__Sex_F', 'Nominal_Categorical__Sex_M',\n",
       "       'Ordinal_Categorical__BP', 'Ordinal_Categorical__Cholesterol'],\n",
       "      dtype=object)"
      ]
     },
     "execution_count": 31,
     "metadata": {},
     "output_type": "execute_result"
    }
   ],
   "source": [
    "ct_p.get_feature_names_out()"
   ]
  },
  {
   "cell_type": "code",
   "execution_count": 32,
   "id": "8f21f7dd",
   "metadata": {},
   "outputs": [
    {
     "data": {
      "text/html": [
       "<div>\n",
       "<style scoped>\n",
       "    .dataframe tbody tr th:only-of-type {\n",
       "        vertical-align: middle;\n",
       "    }\n",
       "\n",
       "    .dataframe tbody tr th {\n",
       "        vertical-align: top;\n",
       "    }\n",
       "\n",
       "    .dataframe thead th {\n",
       "        text-align: right;\n",
       "    }\n",
       "</style>\n",
       "<table border=\"1\" class=\"dataframe\">\n",
       "  <thead>\n",
       "    <tr style=\"text-align: right;\">\n",
       "      <th></th>\n",
       "      <th>0</th>\n",
       "      <th>1</th>\n",
       "      <th>2</th>\n",
       "      <th>3</th>\n",
       "      <th>4</th>\n",
       "      <th>5</th>\n",
       "    </tr>\n",
       "  </thead>\n",
       "  <tbody>\n",
       "    <tr>\n",
       "      <th>0</th>\n",
       "      <td>0.427539</td>\n",
       "      <td>-1.369710</td>\n",
       "      <td>0.0</td>\n",
       "      <td>1.0</td>\n",
       "      <td>0.0</td>\n",
       "      <td>1.0</td>\n",
       "    </tr>\n",
       "    <tr>\n",
       "      <th>1</th>\n",
       "      <td>0.490471</td>\n",
       "      <td>0.449193</td>\n",
       "      <td>1.0</td>\n",
       "      <td>0.0</td>\n",
       "      <td>2.0</td>\n",
       "      <td>1.0</td>\n",
       "    </tr>\n",
       "    <tr>\n",
       "      <th>2</th>\n",
       "      <td>1.108559</td>\n",
       "      <td>-0.097894</td>\n",
       "      <td>0.0</td>\n",
       "      <td>1.0</td>\n",
       "      <td>0.0</td>\n",
       "      <td>0.0</td>\n",
       "    </tr>\n",
       "    <tr>\n",
       "      <th>3</th>\n",
       "      <td>-1.653424</td>\n",
       "      <td>1.179178</td>\n",
       "      <td>1.0</td>\n",
       "      <td>0.0</td>\n",
       "      <td>0.0</td>\n",
       "      <td>1.0</td>\n",
       "    </tr>\n",
       "    <tr>\n",
       "      <th>4</th>\n",
       "      <td>-1.304093</td>\n",
       "      <td>-1.572528</td>\n",
       "      <td>0.0</td>\n",
       "      <td>1.0</td>\n",
       "      <td>0.0</td>\n",
       "      <td>0.0</td>\n",
       "    </tr>\n",
       "    <tr>\n",
       "      <th>...</th>\n",
       "      <td>...</td>\n",
       "      <td>...</td>\n",
       "      <td>...</td>\n",
       "      <td>...</td>\n",
       "      <td>...</td>\n",
       "      <td>...</td>\n",
       "    </tr>\n",
       "    <tr>\n",
       "      <th>123</th>\n",
       "      <td>0.173252</td>\n",
       "      <td>0.547600</td>\n",
       "      <td>0.0</td>\n",
       "      <td>1.0</td>\n",
       "      <td>1.0</td>\n",
       "      <td>0.0</td>\n",
       "    </tr>\n",
       "    <tr>\n",
       "      <th>124</th>\n",
       "      <td>0.490471</td>\n",
       "      <td>0.235952</td>\n",
       "      <td>0.0</td>\n",
       "      <td>1.0</td>\n",
       "      <td>2.0</td>\n",
       "      <td>1.0</td>\n",
       "    </tr>\n",
       "    <tr>\n",
       "      <th>125</th>\n",
       "      <td>-0.686103</td>\n",
       "      <td>-0.791792</td>\n",
       "      <td>1.0</td>\n",
       "      <td>0.0</td>\n",
       "      <td>1.0</td>\n",
       "      <td>1.0</td>\n",
       "    </tr>\n",
       "    <tr>\n",
       "      <th>126</th>\n",
       "      <td>1.710807</td>\n",
       "      <td>-1.049582</td>\n",
       "      <td>0.0</td>\n",
       "      <td>1.0</td>\n",
       "      <td>0.0</td>\n",
       "      <td>0.0</td>\n",
       "    </tr>\n",
       "    <tr>\n",
       "      <th>127</th>\n",
       "      <td>-0.958886</td>\n",
       "      <td>-0.262499</td>\n",
       "      <td>1.0</td>\n",
       "      <td>0.0</td>\n",
       "      <td>1.0</td>\n",
       "      <td>0.0</td>\n",
       "    </tr>\n",
       "  </tbody>\n",
       "</table>\n",
       "<p>128 rows × 6 columns</p>\n",
       "</div>"
      ],
      "text/plain": [
       "            0         1    2    3    4    5\n",
       "0    0.427539 -1.369710  0.0  1.0  0.0  1.0\n",
       "1    0.490471  0.449193  1.0  0.0  2.0  1.0\n",
       "2    1.108559 -0.097894  0.0  1.0  0.0  0.0\n",
       "3   -1.653424  1.179178  1.0  0.0  0.0  1.0\n",
       "4   -1.304093 -1.572528  0.0  1.0  0.0  0.0\n",
       "..        ...       ...  ...  ...  ...  ...\n",
       "123  0.173252  0.547600  0.0  1.0  1.0  0.0\n",
       "124  0.490471  0.235952  0.0  1.0  2.0  1.0\n",
       "125 -0.686103 -0.791792  1.0  0.0  1.0  1.0\n",
       "126  1.710807 -1.049582  0.0  1.0  0.0  0.0\n",
       "127 -0.958886 -0.262499  1.0  0.0  1.0  0.0\n",
       "\n",
       "[128 rows x 6 columns]"
      ]
     },
     "execution_count": 32,
     "metadata": {},
     "output_type": "execute_result"
    }
   ],
   "source": [
    "pd.DataFrame(x_train_t)"
   ]
  },
  {
   "cell_type": "code",
   "execution_count": 33,
   "id": "301ee4b5",
   "metadata": {
    "scrolled": true
   },
   "outputs": [],
   "source": [
    "mb=MixedNB(categorical_features=[2,3,4,5],alpha=1)\n",
    "model=mb.fit(x_train_t,y_train)"
   ]
  },
  {
   "cell_type": "code",
   "execution_count": 34,
   "id": "d636858d",
   "metadata": {},
   "outputs": [],
   "source": [
    "predicted_yi=model.predict(x_cv_t)"
   ]
  },
  {
   "cell_type": "code",
   "execution_count": 35,
   "id": "63704214",
   "metadata": {},
   "outputs": [
    {
     "name": "stdout",
     "output_type": "stream",
     "text": [
      "Confusion Matrix:\n",
      "\n"
     ]
    },
    {
     "data": {
      "image/png": "[encoded data removed]",
      "text/plain": [
       "<Figure size 640x480 with 2 Axes>"
      ]
     },
     "metadata": {},
     "output_type": "display_data"
    },
    {
     "name": "stdout",
     "output_type": "stream",
     "text": [
      "\n",
      "Accuracy Score:  93.75\n",
      "\n",
      "\n",
      "Classification Report:\n",
      "               precision    recall  f1-score   support\n",
      "\n",
      "           0       1.00      1.00      1.00        15\n",
      "           1       0.80      1.00      0.89         4\n",
      "           2       0.50      0.50      0.50         2\n",
      "           3       1.00      0.50      0.67         2\n",
      "           4       1.00      1.00      1.00         9\n",
      "\n",
      "    accuracy                           0.94        32\n",
      "   macro avg       0.86      0.80      0.81        32\n",
      "weighted avg       0.94      0.94      0.93        32\n",
      "\n"
     ]
    }
   ],
   "source": [
    "print(\"Confusion Matrix:\\n\")\n",
    "cm = confusion_matrix(y_cv, predicted_yi)\n",
    "i = ConfusionMatrixDisplay(cm)\n",
    "i.plot()\n",
    "plt.show()\n",
    "\n",
    "print(\"\\nAccuracy Score: \",accuracy_score(y_cv, predicted_yi)*100)\n",
    "\n",
    "\n",
    "print(\"\\n\\nClassification Report:\\n\",classification_report(y_cv, predicted_yi))"
   ]
  },
  {
   "cell_type": "markdown",
   "id": "9bb858ce",
   "metadata": {},
   "source": [
    "## 7) Testing "
   ]
  },
  {
   "cell_type": "code",
   "execution_count": 36,
   "id": "299b37c3",
   "metadata": {},
   "outputs": [],
   "source": [
    "mb=MixedNB(categorical_features=[2,3,4,5],alpha=1)\n",
    "model=mb.fit(x_train_t,y_train)\n",
    "predicted_yi=model.predict(x_test_t)"
   ]
  },
  {
   "cell_type": "code",
   "execution_count": 37,
   "id": "c04d2e22",
   "metadata": {},
   "outputs": [
    {
     "name": "stdout",
     "output_type": "stream",
     "text": [
      "Confusion Matrix:\n",
      "\n"
     ]
    },
    {
     "data": {
      "image/png": "[encoded data removed]",
      "text/plain": [
       "<Figure size 640x480 with 2 Axes>"
      ]
     },
     "metadata": {},
     "output_type": "display_data"
    },
    {
     "name": "stdout",
     "output_type": "stream",
     "text": [
      "\n",
      "Accuracy Score:  97.5\n",
      "\n",
      "\n",
      "Classification Report:\n",
      "               precision    recall  f1-score   support\n",
      "\n",
      "           0       1.00      1.00      1.00        18\n",
      "           1       1.00      1.00      1.00         5\n",
      "           2       1.00      1.00      1.00         3\n",
      "           3       1.00      0.67      0.80         3\n",
      "           4       0.92      1.00      0.96        11\n",
      "\n",
      "    accuracy                           0.97        40\n",
      "   macro avg       0.98      0.93      0.95        40\n",
      "weighted avg       0.98      0.97      0.97        40\n",
      "\n"
     ]
    }
   ],
   "source": [
    "print(\"Confusion Matrix:\\n\")\n",
    "cm = confusion_matrix(y_test, predicted_yi)\n",
    "i = ConfusionMatrixDisplay(cm)\n",
    "i.plot()\n",
    "plt.show()\n",
    "\n",
    "print(\"\\nAccuracy Score: \",accuracy_score(y_test, predicted_yi)*100)\n",
    "\n",
    "\n",
    "print(\"\\n\\nClassification Report:\\n\",classification_report(y_test, predicted_yi))"
   ]
  },
  {
   "cell_type": "markdown",
   "id": "53786891",
   "metadata": {},
   "source": [
    "## 8) Deployment"
   ]
  },
  {
   "cell_type": "code",
   "execution_count": 38,
   "id": "e84fa083",
   "metadata": {},
   "outputs": [],
   "source": [
    "#This will serialize the object and convert it into a “byte stream”\n",
    "pickle.dump(ct_p,open(r\"C:\\Users\\Ajay\\Studies\\Machine Learning\\Assignment\\drugs_pre.pkl\", \"wb\")) "
   ]
  },
  {
   "cell_type": "code",
   "execution_count": 39,
   "id": "134dd934",
   "metadata": {},
   "outputs": [],
   "source": [
    "#This will de-serialize the object\n",
    "pre = pickle.load(open(r\"C:\\Users\\Ajay\\Studies\\Machine Learning\\Assignment\\drugs_pre.pkl\", \"rb\"))"
   ]
  },
  {
   "cell_type": "code",
   "execution_count": 40,
   "id": "07767086",
   "metadata": {},
   "outputs": [],
   "source": [
    "#This will serialize the object and convert it into a “byte stream”\n",
    "pickle.dump(model,open(r\"C:\\Users\\Ajay\\Studies\\Machine Learning\\Assignment\\drugs_model.pkl\", \"wb\")) "
   ]
  },
  {
   "cell_type": "code",
   "execution_count": 41,
   "id": "2e79af76",
   "metadata": {},
   "outputs": [],
   "source": [
    "#This will de-serialize the object\n",
    "model = pickle.load(open(r\"C:\\Users\\Ajay\\Studies\\Machine Learning\\Assignment\\drugs_model.pkl\", \"rb\"))"
   ]
  },
  {
   "cell_type": "markdown",
   "id": "c69cefdc",
   "metadata": {},
   "source": [
    "### Query Point"
   ]
  },
  {
   "cell_type": "code",
   "execution_count": 44,
   "id": "c25c24b6",
   "metadata": {},
   "outputs": [
    {
     "name": "stdout",
     "output_type": "stream",
     "text": [
      "[1]\n"
     ]
    }
   ],
   "source": [
    "query = pd.DataFrame([[39, \"M\", \"HIGH\", \"HIGH\", 9.664]],\n",
    "                 columns=['Age', 'Sex', 'BP', 'Cholesterol', 'Na_to_K'])\n",
    "\n",
    "# Transform input data\n",
    "query_trans = pre.transform(query)\n",
    "\n",
    "# Predict and display result\n",
    "predicted_yi = model.predict(query_trans)\n",
    "print(predicted_yi)"
   ]
  },
  {
   "cell_type": "code",
   "execution_count": 47,
   "id": "0a42c06f",
   "metadata": {},
   "outputs": [
    {
     "name": "stdout",
     "output_type": "stream",
     "text": [
      "**drugA**\n"
     ]
    }
   ],
   "source": [
    "if predicted_yi == 0:\n",
    "    result = \"**DrugY**\"\n",
    "elif predicted_yi == 1:\n",
    "    result = \"**drugA**\"\n",
    "elif predicted_yi == 2:\n",
    "    result = \"**drugB**\"\n",
    "elif predicted_yi == 3:\n",
    "    result = \"**drugC**\"\n",
    "elif predicted_yi == 4:\n",
    "    result = \"**drugX**\"\n",
    "else:\n",
    "    result = \"**Error**\"\n",
    "    \n",
    "print(result)"
   ]
  },
  {
   "cell_type": "code",
   "execution_count": null,
   "id": "a6e9a850",
   "metadata": {},
   "outputs": [],
   "source": []
  }
 ],
 "metadata": {
  "kernelspec": {
   "display_name": "Python 3 (ipykernel)",
   "language": "python",
   "name": "python3"
  },
  "language_info": {
   "codemirror_mode": {
    "name": "ipython",
    "version": 3
   },
   "file_extension": ".py",
   "mimetype": "text/x-python",
   "name": "python",
   "nbconvert_exporter": "python",
   "pygments_lexer": "ipython3",
   "version": "3.10.12"
  }
 },
 "nbformat": 4,
 "nbformat_minor": 5
}
